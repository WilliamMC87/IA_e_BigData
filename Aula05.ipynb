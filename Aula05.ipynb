{
 "cells": [
  {
   "cell_type": "markdown",
   "metadata": {},
   "source": [
    "1) Prever o nível de um tanque com diferentes vazões"
   ]
  },
  {
   "cell_type": "code",
   "execution_count": 6,
   "metadata": {},
   "outputs": [
    {
     "name": "stdout",
     "output_type": "stream",
     "text": [
      "Níveis previstos para as vazões [15 25 35]: [ 9.94915254 17.61016949 25.27118644]\n"
     ]
    }
   ],
   "source": [
    "import numpy as np\n",
    "from sklearn.linear_model import LinearRegression\n",
    "\n",
    "# Dados de entrada\n",
    "vazao = np.array([10, 20, 30, 5, 35, 40]).reshape(-1, 1)\n",
    "nivel = np.array([5, 15, 20, 3, 25, 30])  # Supondo níveis correspondentes hipotéticos\n",
    "\n",
    "# Criar e treinar o modelo\n",
    "modelo = LinearRegression()\n",
    "modelo.fit(vazao, nivel)\n",
    "\n",
    "# Previsão\n",
    "vazao_nova = np.array([15, 25, 35]).reshape(-1, 1)\n",
    "nivel_previsto = modelo.predict(vazao_nova)\n",
    "print(f\"Níveis previstos para as vazões {vazao_nova.flatten()}: {nivel_previsto}\")"
   ]
  },
  {
   "cell_type": "markdown",
   "metadata": {},
   "source": [
    "2) Prever a temperatura de um forno a partir da quantidade de calor fornecida"
   ]
  },
  {
   "cell_type": "code",
   "execution_count": 7,
   "metadata": {},
   "outputs": [
    {
     "name": "stdout",
     "output_type": "stream",
     "text": [
      "Temperaturas previstas para os calores [250 350 450]: [38.39285714 56.60714286 74.82142857]\n"
     ]
    }
   ],
   "source": [
    "import numpy as np\n",
    "from sklearn.linear_model import LinearRegression\n",
    "\n",
    "# Dados de entrada\n",
    "calor = np.array([100, 200, 300, 400, 500, 600, 700]).reshape(-1, 1)\n",
    "temperatura = np.array([30, 35, 40, 45, 60, 100, 150])\n",
    "\n",
    "# Criar e treinar o modelo\n",
    "modelo = LinearRegression()\n",
    "modelo.fit(calor, temperatura)\n",
    "\n",
    "# Previsão\n",
    "calor_novo = np.array([250, 350, 450]).reshape(-1, 1)\n",
    "temperatura_prevista = modelo.predict(calor_novo)\n",
    "print(f\"Temperaturas previstas para os calores {calor_novo.flatten()}: {temperatura_prevista}\")\n"
   ]
  },
  {
   "cell_type": "markdown",
   "metadata": {},
   "source": [
    "3) Prever o valor de um imóvel com base na área"
   ]
  },
  {
   "cell_type": "code",
   "execution_count": 8,
   "metadata": {},
   "outputs": [
    {
     "name": "stdout",
     "output_type": "stream",
     "text": [
      "Valores previstos para as áreas [ 80 150 250]: [264481.42957253 375662.2284513  534491.94113525]\n"
     ]
    }
   ],
   "source": [
    "import numpy as np\n",
    "from sklearn.linear_model import LinearRegression\n",
    "\n",
    "# Dados de entrada\n",
    "area = np.array([50, 100, 120, 300]).reshape(-1, 1)\n",
    "valor = np.array([180000, 300000, 375000, 600000])\n",
    "\n",
    "# Criar e treinar o modelo\n",
    "modelo = LinearRegression()\n",
    "modelo.fit(area, valor)\n",
    "\n",
    "# Previsão\n",
    "area_nova = np.array([80, 150, 250]).reshape(-1, 1)\n",
    "valor_previsto = modelo.predict(area_nova)\n",
    "print(f\"Valores previstos para as áreas {area_nova.flatten()}: {valor_previsto}\")\n"
   ]
  },
  {
   "cell_type": "markdown",
   "metadata": {},
   "source": [
    "4) Prever os gastos dos clientes com base no salário"
   ]
  },
  {
   "cell_type": "code",
   "execution_count": 9,
   "metadata": {},
   "outputs": [
    {
     "name": "stdout",
     "output_type": "stream",
     "text": [
      "Gastos previstos para as rendas [ 2000  6000 12000]: [ 557.16705905 3042.61182871 6770.7789832 ]\n"
     ]
    }
   ],
   "source": [
    "import numpy as np\n",
    "from sklearn.linear_model import LinearRegression\n",
    "\n",
    "# Dados de entrada\n",
    "renda = np.array([1200, 5000, 8000, 10000, 30000]).reshape(-1, 1)\n",
    "gastos = np.array([750, 1500, 4000, 6000, 18000])\n",
    "\n",
    "# Criar e treinar o modelo\n",
    "modelo = LinearRegression()\n",
    "modelo.fit(renda, gastos)\n",
    "\n",
    "# Previsão\n",
    "renda_nova = np.array([2000, 6000, 12000]).reshape(-1, 1)\n",
    "gastos_previsto = modelo.predict(renda_nova)\n",
    "print(f\"Gastos previstos para as rendas {renda_nova.flatten()}: {gastos_previsto}\")\n"
   ]
  },
  {
   "cell_type": "markdown",
   "metadata": {},
   "source": [
    "5) Prever a demanda de energia com base no consumo dos meses anteriores"
   ]
  },
  {
   "cell_type": "code",
   "execution_count": 10,
   "metadata": {},
   "outputs": [
    {
     "name": "stdout",
     "output_type": "stream",
     "text": [
      "Demanda prevista para os consumos [ 60 100 150]: [103.68523816 144.89669891 196.41102484]\n"
     ]
    }
   ],
   "source": [
    "import numpy as np\n",
    "from sklearn.linear_model import LinearRegression\n",
    "\n",
    "# Dados de entrada\n",
    "consumo = np.array([50, 140, 30, 75, 123]).reshape(-1, 1)\n",
    "demanda = np.array([100, 200, 80, 100, 160])\n",
    "\n",
    "# Criar e treinar o modelo\n",
    "modelo = LinearRegression()\n",
    "modelo.fit(consumo, demanda)\n",
    "\n",
    "# Previsão\n",
    "consumo_novo = np.array([60, 100, 150]).reshape(-1, 1)\n",
    "demanda_previsto = modelo.predict(consumo_novo)\n",
    "print(f\"Demanda prevista para os consumos {consumo_novo.flatten()}: {demanda_previsto}\")\n"
   ]
  },
  {
   "cell_type": "markdown",
   "metadata": {},
   "source": []
  }
 ],
 "metadata": {
  "kernelspec": {
   "display_name": "Python 3",
   "language": "python",
   "name": "python3"
  },
  "language_info": {
   "codemirror_mode": {
    "name": "ipython",
    "version": 3
   },
   "file_extension": ".py",
   "mimetype": "text/x-python",
   "name": "python",
   "nbconvert_exporter": "python",
   "pygments_lexer": "ipython3",
   "version": "3.11.7"
  }
 },
 "nbformat": 4,
 "nbformat_minor": 2
}
